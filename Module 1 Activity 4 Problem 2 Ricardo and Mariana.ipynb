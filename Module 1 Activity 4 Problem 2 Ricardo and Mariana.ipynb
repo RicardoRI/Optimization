{
 "cells": [
  {
   "cell_type": "code",
   "execution_count": 1,
   "id": "0383a652",
   "metadata": {},
   "outputs": [],
   "source": [
    "import numpy as np\n",
    "import gplearn\n",
    "\n",
    "from gplearn.genetic import SymbolicTransformer\n",
    "from sklearn.utils import check_random_state\n",
    "from sklearn.datasets import load_diabetes\n",
    "from sklearn.linear_model import Ridge\n",
    "__all__ = ['SymbolicRegressor', 'SymbolicClassifier', 'SymbolicTransformer']\n"
   ]
  },
  {
   "cell_type": "code",
   "execution_count": 2,
   "id": "921cec17",
   "metadata": {},
   "outputs": [],
   "source": [
    "rng = check_random_state(0)\n",
    "diabetes = load_diabetes()\n",
    "\n",
    "      # - age     age in years\n",
    "      # - sex\n",
    "      # - bmi     body mass index\n",
    "      # - bp      average blood pressure\n",
    "      # - s1      tc, T-Cells (a type of white blood cells)\n",
    "      # - s2      ldl, low-density lipoproteins\n",
    "      # - s3      hdl, high-density lipoproteins\n",
    "      # - s4      tch, thyroid stimulating hormone\n",
    "      # - s5      ltg, lamotrigine\n",
    "      # - s6      glu, blood sugar level\n",
    "        \n",
    "perm = rng.permutation(diabetes.target.size)\n",
    "diabetes.data = diabetes.data[perm]\n",
    "diabetes.target = diabetes.target[perm]"
   ]
  },
  {
   "cell_type": "code",
   "execution_count": 3,
   "id": "821e3e91",
   "metadata": {},
   "outputs": [
    {
     "name": "stdout",
     "output_type": "stream",
     "text": [
      "0.43405742105789413\n"
     ]
    }
   ],
   "source": [
    "est = Ridge()\n",
    "est.fit(diabetes.data[:300, :], diabetes.target[:300])\n",
    "print(est.score(diabetes.data[300:, :], diabetes.target[300:]))\n"
   ]
  },
  {
   "cell_type": "code",
   "execution_count": 4,
   "id": "17087286",
   "metadata": {},
   "outputs": [
    {
     "name": "stdout",
     "output_type": "stream",
     "text": [
      "    |   Population Average    |             Best Individual              |\n",
      "---- ------------------------- ------------------------------------------ ----------\n",
      " Gen   Length          Fitness   Length          Fitness      OOB Fitness  Time Left\n",
      "   0    11.37         0.126618        5         0.612827             0.68      2.28m\n",
      "   1     6.63         0.344375        3         0.659086         0.451797     51.66s\n",
      "   2     5.36         0.473731        3         0.669019         0.321485      1.39m\n",
      "   3     4.74         0.587613        3         0.673354          0.31249      1.03m\n",
      "   4     4.39         0.597151       13         0.675282          0.49482      1.20m\n",
      "   5     4.31         0.611995       15         0.686134         0.148203      1.14m\n",
      "   6     4.89         0.611891        9         0.685649         0.199002      1.33m\n",
      "   7     6.49         0.617031        9         0.688309         0.287286      1.18m\n",
      "   8     9.19         0.628618       17         0.720606          0.26362      1.43m\n",
      "   9    11.44         0.637057       18         0.701906         0.607692      1.61m\n",
      "  10    15.19         0.646744       31         0.709565         0.485812      2.10m\n",
      "  11    18.69         0.654609       28          0.71732         0.373906      2.05m\n",
      "  12    21.14         0.660923       28         0.714525         0.388124      2.33m\n",
      "  13    23.66         0.664435       24         0.717779         0.499734      2.42m\n",
      "  14    23.80         0.665121       40         0.717637         0.454897      2.10m\n",
      "  15    24.05         0.668179       32          0.71817         0.357258      1.93m\n",
      "  16    24.56          0.66613       26         0.718859         0.382447      1.39m\n",
      "  17    24.83         0.666171       27         0.715718         0.487776     57.28s\n",
      "  18    25.56         0.665736       30         0.720983         0.479341     31.23s\n",
      "  19    26.20         0.669084       45         0.722443         0.365526      0.00s\n"
     ]
    },
    {
     "data": {
      "text/html": [
       "<style>#sk-container-id-1 {color: black;background-color: white;}#sk-container-id-1 pre{padding: 0;}#sk-container-id-1 div.sk-toggleable {background-color: white;}#sk-container-id-1 label.sk-toggleable__label {cursor: pointer;display: block;width: 100%;margin-bottom: 0;padding: 0.3em;box-sizing: border-box;text-align: center;}#sk-container-id-1 label.sk-toggleable__label-arrow:before {content: \"▸\";float: left;margin-right: 0.25em;color: #696969;}#sk-container-id-1 label.sk-toggleable__label-arrow:hover:before {color: black;}#sk-container-id-1 div.sk-estimator:hover label.sk-toggleable__label-arrow:before {color: black;}#sk-container-id-1 div.sk-toggleable__content {max-height: 0;max-width: 0;overflow: hidden;text-align: left;background-color: #f0f8ff;}#sk-container-id-1 div.sk-toggleable__content pre {margin: 0.2em;color: black;border-radius: 0.25em;background-color: #f0f8ff;}#sk-container-id-1 input.sk-toggleable__control:checked~div.sk-toggleable__content {max-height: 200px;max-width: 100%;overflow: auto;}#sk-container-id-1 input.sk-toggleable__control:checked~label.sk-toggleable__label-arrow:before {content: \"▾\";}#sk-container-id-1 div.sk-estimator input.sk-toggleable__control:checked~label.sk-toggleable__label {background-color: #d4ebff;}#sk-container-id-1 div.sk-label input.sk-toggleable__control:checked~label.sk-toggleable__label {background-color: #d4ebff;}#sk-container-id-1 input.sk-hidden--visually {border: 0;clip: rect(1px 1px 1px 1px);clip: rect(1px, 1px, 1px, 1px);height: 1px;margin: -1px;overflow: hidden;padding: 0;position: absolute;width: 1px;}#sk-container-id-1 div.sk-estimator {font-family: monospace;background-color: #f0f8ff;border: 1px dotted black;border-radius: 0.25em;box-sizing: border-box;margin-bottom: 0.5em;}#sk-container-id-1 div.sk-estimator:hover {background-color: #d4ebff;}#sk-container-id-1 div.sk-parallel-item::after {content: \"\";width: 100%;border-bottom: 1px solid gray;flex-grow: 1;}#sk-container-id-1 div.sk-label:hover label.sk-toggleable__label {background-color: #d4ebff;}#sk-container-id-1 div.sk-serial::before {content: \"\";position: absolute;border-left: 1px solid gray;box-sizing: border-box;top: 0;bottom: 0;left: 50%;z-index: 0;}#sk-container-id-1 div.sk-serial {display: flex;flex-direction: column;align-items: center;background-color: white;padding-right: 0.2em;padding-left: 0.2em;position: relative;}#sk-container-id-1 div.sk-item {position: relative;z-index: 1;}#sk-container-id-1 div.sk-parallel {display: flex;align-items: stretch;justify-content: center;background-color: white;position: relative;}#sk-container-id-1 div.sk-item::before, #sk-container-id-1 div.sk-parallel-item::before {content: \"\";position: absolute;border-left: 1px solid gray;box-sizing: border-box;top: 0;bottom: 0;left: 50%;z-index: -1;}#sk-container-id-1 div.sk-parallel-item {display: flex;flex-direction: column;z-index: 1;position: relative;background-color: white;}#sk-container-id-1 div.sk-parallel-item:first-child::after {align-self: flex-end;width: 50%;}#sk-container-id-1 div.sk-parallel-item:last-child::after {align-self: flex-start;width: 50%;}#sk-container-id-1 div.sk-parallel-item:only-child::after {width: 0;}#sk-container-id-1 div.sk-dashed-wrapped {border: 1px dashed gray;margin: 0 0.4em 0.5em 0.4em;box-sizing: border-box;padding-bottom: 0.4em;background-color: white;}#sk-container-id-1 div.sk-label label {font-family: monospace;font-weight: bold;display: inline-block;line-height: 1.2em;}#sk-container-id-1 div.sk-label-container {text-align: center;}#sk-container-id-1 div.sk-container {/* jupyter's `normalize.less` sets `[hidden] { display: none; }` but bootstrap.min.css set `[hidden] { display: none !important; }` so we also need the `!important` here to be able to override the default hidden behavior on the sphinx rendered scikit-learn.org. See: https://github.com/scikit-learn/scikit-learn/issues/21755 */display: inline-block !important;position: relative;}#sk-container-id-1 div.sk-text-repr-fallback {display: none;}</style><div id=\"sk-container-id-1\" class=\"sk-top-container\"><div class=\"sk-text-repr-fallback\"><pre>[max(add(max(X3, X9), add(add(X2, X7), min(add(add(X2, min(add(X2, add(add(X2, X8), max(add(max(X3, X9), add(add(X2, X8), min(add(X2, X8), X3))), min(add(X2, X8), X3)))), X2)), X8), X3))), add(X2, X8)),\n",
       " neg(max(add(max(X3, X9), add(add(X2, X8), min(add(X8, X2), X3))), add(X2, X8))),\n",
       " neg(max(add(max(X3, X9), add(add(max(X3, X9), add(add(X2, X7), min(add(add(X2, X8), X8), X3))), min(add(add(X2, X8), X8), X3))), add(X2, X8))),\n",
       " max(add(X9, add(X2, X8)), max(add(max(X3, X9), add(add(X2, X7), add(max(X3, X9), add(add(X2, X8), min(add(add(X2, min(add(X2, X8), X2)), X8), X3))))), add(X2, X8))),\n",
       " neg(max(max(add(max(X3, add(X2, X9)), add(max(add(add(X9, X2), add(add(X2, min(add(X2, X8), X3)), X8)), add(X2, X8)), min(add(X2, min(min(add(X2, X8), X3), X3)), X3))), add(X8, X2)), min(add(X2, X8), X3))),\n",
       " neg(add(max(max(add(X9, add(X2, add(min(add(X2, X8), add(X2, X8)), min(min(add(X2, min(add(X2, X8), X3)), X3), X3)))), add(X2, X8)), add(X2, X8)), min(add(X2, X8), X3))),\n",
       " max(add(max(X3, X9), add(add(X2, X8), min(min(add(add(add(X2, X8), min(add(add(add(X2, add(X2, min(min(add(X2, X8), X3), X3))), min(add(X2, X8), min(sqrt(abs(X5)), X3))), X8), X3)), X8), X3), X3))), add(X2, min(add(X2, X8), X3))),\n",
       " max(add(X9, add(X2, add(add(add(X2, X7), min(add(X2, X8), X3)), min(add(X2, X8), X3)))), add(X2, X8)),\n",
       " neg(max(add(max(X3, X9), add(add(max(X3, X9), add(add(X2, X7), min(add(add(X2, X8), X8), X3))), add(X2, min(add(X9, add(X2, min(min(add(X2, X8), X3), X3))), X3)))), add(X2, X8))),\n",
       " neg(max(add(max(X3, add(X2, X9)), add(add(min(add(X2, X8), X3), X2), min(add(add(X2, X8), X8), X3))), add(X2, X8)))]</pre><b>In a Jupyter environment, please rerun this cell to show the HTML representation or trust the notebook. <br />On GitHub, the HTML representation is unable to render, please try loading this page with nbviewer.org.</b></div><div class=\"sk-container\" hidden><div class=\"sk-item\"><div class=\"sk-estimator sk-toggleable\"><input class=\"sk-toggleable__control sk-hidden--visually\" id=\"sk-estimator-id-1\" type=\"checkbox\" checked><label for=\"sk-estimator-id-1\" class=\"sk-toggleable__label sk-toggleable__label-arrow\">SymbolicTransformer</label><div class=\"sk-toggleable__content\"><pre>[max(add(max(X3, X9), add(add(X2, X7), min(add(add(X2, min(add(X2, add(add(X2, X8), max(add(max(X3, X9), add(add(X2, X8), min(add(X2, X8), X3))), min(add(X2, X8), X3)))), X2)), X8), X3))), add(X2, X8)),\n",
       " neg(max(add(max(X3, X9), add(add(X2, X8), min(add(X8, X2), X3))), add(X2, X8))),\n",
       " neg(max(add(max(X3, X9), add(add(max(X3, X9), add(add(X2, X7), min(add(add(X2, X8), X8), X3))), min(add(add(X2, X8), X8), X3))), add(X2, X8))),\n",
       " max(add(X9, add(X2, X8)), max(add(max(X3, X9), add(add(X2, X7), add(max(X3, X9), add(add(X2, X8), min(add(add(X2, min(add(X2, X8), X2)), X8), X3))))), add(X2, X8))),\n",
       " neg(max(max(add(max(X3, add(X2, X9)), add(max(add(add(X9, X2), add(add(X2, min(add(X2, X8), X3)), X8)), add(X2, X8)), min(add(X2, min(min(add(X2, X8), X3), X3)), X3))), add(X8, X2)), min(add(X2, X8), X3))),\n",
       " neg(add(max(max(add(X9, add(X2, add(min(add(X2, X8), add(X2, X8)), min(min(add(X2, min(add(X2, X8), X3)), X3), X3)))), add(X2, X8)), add(X2, X8)), min(add(X2, X8), X3))),\n",
       " max(add(max(X3, X9), add(add(X2, X8), min(min(add(add(add(X2, X8), min(add(add(add(X2, add(X2, min(min(add(X2, X8), X3), X3))), min(add(X2, X8), min(sqrt(abs(X5)), X3))), X8), X3)), X8), X3), X3))), add(X2, min(add(X2, X8), X3))),\n",
       " max(add(X9, add(X2, add(add(add(X2, X7), min(add(X2, X8), X3)), min(add(X2, X8), X3)))), add(X2, X8)),\n",
       " neg(max(add(max(X3, X9), add(add(max(X3, X9), add(add(X2, X7), min(add(add(X2, X8), X8), X3))), add(X2, min(add(X9, add(X2, min(min(add(X2, X8), X3), X3))), X3)))), add(X2, X8))),\n",
       " neg(max(add(max(X3, add(X2, X9)), add(add(min(add(X2, X8), X3), X2), min(add(add(X2, X8), X8), X3))), add(X2, X8)))]</pre></div></div></div></div></div>"
      ],
      "text/plain": [
       "SymbolicTransformer(function_set=['add', 'sub', 'mul', 'div', 'sqrt', 'log',\n",
       "                                  'abs', 'neg', 'inv', 'max', 'min'],\n",
       "                    max_samples=0.9, n_jobs=3, parsimony_coefficient=0.0005,\n",
       "                    population_size=2000, random_state=0, verbose=1)"
      ]
     },
     "execution_count": 4,
     "metadata": {},
     "output_type": "execute_result"
    }
   ],
   "source": [
    "function_set = ['add', 'sub', 'mul', 'div',\n",
    "                'sqrt', 'log', 'abs', 'neg', 'inv',\n",
    "                'max', 'min']\n",
    "gp = SymbolicTransformer(generations=20, population_size=2000,\n",
    "                         hall_of_fame=100, n_components=10,\n",
    "                         function_set=function_set,\n",
    "                         parsimony_coefficient=0.0005,\n",
    "                         max_samples=0.9, verbose=1,\n",
    "                         random_state=0, n_jobs=3)\n",
    "gp.fit(diabetes.data[:300, :], diabetes.target[:300])"
   ]
  },
  {
   "cell_type": "code",
   "execution_count": 6,
   "id": "6dc5558f",
   "metadata": {},
   "outputs": [],
   "source": [
    "gp_features = gp.transform(diabetes.data)\n",
    "new_diabetes = np.hstack((diabetes.data, gp_features))"
   ]
  },
  {
   "cell_type": "code",
   "execution_count": 7,
   "id": "fc44889d",
   "metadata": {},
   "outputs": [
    {
     "name": "stdout",
     "output_type": "stream",
     "text": [
      "0.5336788517320445\n"
     ]
    }
   ],
   "source": [
    "est = Ridge()\n",
    "est.fit(new_diabetes[:300, :], diabetes.target[:300])\n",
    "print(est.score(new_diabetes[300:, :], diabetes.target[300:]))\n"
   ]
  },
  {
   "cell_type": "markdown",
   "id": "37091400",
   "metadata": {},
   "source": [
    "Explain how the symbolic transformer method helps to improve the regression’s performance.\n",
    "\n",
    "The linear model was able to take advantage of some non-linear features to fit the data better. This can be seen on the improved R^2 restults: 0.5336788517320445  versus the R^2 obtained with Ridge Regression: 0.43405742105789413.\n",
    "\n",
    "Symbolic Regresion is between Parametric Statistics and Neural Network functions. With Symbolic Regression, the function we learn can actually have quite hight expressivity and is selected from a large space of functions \n",
    "\n",
    "Part of the advantages is that Symbolic Regression is fast, it leverages previous expirience, inference in a single forward pass. And it also is less overfitting-prone (does not optimize a loss on the inputs)\n"
   ]
  }
 ],
 "metadata": {
  "kernelspec": {
   "display_name": "Python 3 (ipykernel)",
   "language": "python",
   "name": "python3"
  },
  "language_info": {
   "codemirror_mode": {
    "name": "ipython",
    "version": 3
   },
   "file_extension": ".py",
   "mimetype": "text/x-python",
   "name": "python",
   "nbconvert_exporter": "python",
   "pygments_lexer": "ipython3",
   "version": "3.9.7"
  }
 },
 "nbformat": 4,
 "nbformat_minor": 5
}
